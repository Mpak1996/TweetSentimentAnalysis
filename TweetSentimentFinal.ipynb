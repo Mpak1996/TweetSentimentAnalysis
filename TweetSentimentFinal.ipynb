{
  "nbformat": 4,
  "nbformat_minor": 0,
  "metadata": {
    "colab": {
      "name": "TweetSentimentFinal.ipynb",
      "provenance": [],
      "collapsed_sections": [],
      "toc_visible": true
    },
    "kernelspec": {
      "name": "python3",
      "display_name": "Python 3"
    }
  },
  "cells": [
    {
      "cell_type": "markdown",
      "metadata": {
        "id": "1VhIwOHBC1HI"
      },
      "source": [
        "# **Import Libraries**\n"
      ]
    },
    {
      "cell_type": "code",
      "metadata": {
        "colab": {
          "base_uri": "https://localhost:8080/"
        },
        "id": "nVpOi6fcPK16",
        "outputId": "8ea2df5c-6f1f-48a1-f70a-6e6e6dd3b929"
      },
      "source": [
        "import pandas as pd\n",
        "#open source data analysis and manipulation tool\n",
        "import nltk\n",
        "# Natural Language Toolkit\n",
        "import seaborn as sns \n",
        "#Library for diagrams\n",
        "import numpy as np\n",
        "#library for arrays\n",
        "from textblob import TextBlob\n",
        "#Library for processing textual data\n",
        "import re as regex\n",
        "import re\n",
        "nltk.download('punkt')  \n",
        "# Natural Language Toolkit\n",
        "from collections import Counter\n",
        "# sklearn library for train-test,accuracy-recall-precision score and time\n",
        "from sklearn.model_selection import train_test_split, cross_val_score, GridSearchCV, RandomizedSearchCV\n",
        "# time library for calculate time\n",
        "from time import time\n",
        "#precision, recall and and accuracy score from sklearn.metrics libraty  \n",
        "from sklearn.metrics import f1_score, precision_score, recall_score, accuracy_score\n",
        "\n"
      ],
      "execution_count": 66,
      "outputs": [
        {
          "output_type": "stream",
          "text": [
            "[nltk_data] Downloading package punkt to /root/nltk_data...\n",
            "[nltk_data]   Package punkt is already up-to-date!\n"
          ],
          "name": "stdout"
        }
      ]
    },
    {
      "cell_type": "markdown",
      "metadata": {
        "id": "LxmYs2VQDJdc"
      },
      "source": [
        "# **Input Files (Data)**"
      ]
    },
    {
      "cell_type": "code",
      "metadata": {
        "id": "an1k3YsWPWDO"
      },
      "source": [
        "#Read .csv files into train and test data with the right encoding!\n",
        "train_data = pd.read_csv('/content/SocialMedia.csv', encoding= 'unicode_escape')\n",
        "test_data = pd.read_csv('/content/SocialMedia2.csv', encoding= 'unicode_escape')\n",
        "\n",
        "\n",
        "\n",
        "\n",
        "\n",
        "train_data = train_data[train_data['Sentiment'] != 'Text']"
      ],
      "execution_count": 2,
      "outputs": []
    },
    {
      "cell_type": "code",
      "metadata": {
        "id": "S2Kira26Vy4Z",
        "colab": {
          "base_uri": "https://localhost:8080/",
          "height": 195
        },
        "outputId": "bb112fcf-7367-4b4f-8dae-85c3197da2e8"
      },
      "source": [
        "# Analyze the 1st 5 posts of train_data file\r\n",
        "train_data.head() "
      ],
      "execution_count": 3,
      "outputs": [
        {
          "output_type": "execute_result",
          "data": {
            "text/html": [
              "<div>\n",
              "<style scoped>\n",
              "    .dataframe tbody tr th:only-of-type {\n",
              "        vertical-align: middle;\n",
              "    }\n",
              "\n",
              "    .dataframe tbody tr th {\n",
              "        vertical-align: top;\n",
              "    }\n",
              "\n",
              "    .dataframe thead th {\n",
              "        text-align: right;\n",
              "    }\n",
              "</style>\n",
              "<table border=\"1\" class=\"dataframe\">\n",
              "  <thead>\n",
              "    <tr style=\"text-align: right;\">\n",
              "      <th></th>\n",
              "      <th>ID</th>\n",
              "      <th>Text</th>\n",
              "      <th>Sentiment</th>\n",
              "    </tr>\n",
              "  </thead>\n",
              "  <tbody>\n",
              "    <tr>\n",
              "      <th>0</th>\n",
              "      <td>P1</td>\n",
              "      <td>Who is ready for iPhone 6s and iPhone 6s Plus?...</td>\n",
              "      <td>positive</td>\n",
              "    </tr>\n",
              "    <tr>\n",
              "      <th>1</th>\n",
              "      <td>P2</td>\n",
              "      <td>@lucy_larkman there are hacks on how to save h...</td>\n",
              "      <td>positive</td>\n",
              "    </tr>\n",
              "    <tr>\n",
              "      <th>2</th>\n",
              "      <td>P3</td>\n",
              "      <td>Hi Rica Cunanan : ricacunanan09 Do u want to g...</td>\n",
              "      <td>positive</td>\n",
              "    </tr>\n",
              "    <tr>\n",
              "      <th>3</th>\n",
              "      <td>P4</td>\n",
              "      <td>Hi Ariane Valentine : mainlyboredom Do u want ...</td>\n",
              "      <td>positive</td>\n",
              "    </tr>\n",
              "    <tr>\n",
              "      <th>4</th>\n",
              "      <td>P5</td>\n",
              "      <td>Hi eastside_crazii : rthompson672 Do u want to...</td>\n",
              "      <td>positive</td>\n",
              "    </tr>\n",
              "  </tbody>\n",
              "</table>\n",
              "</div>"
            ],
            "text/plain": [
              "   ID                                               Text Sentiment\n",
              "0  P1  Who is ready for iPhone 6s and iPhone 6s Plus?...  positive\n",
              "1  P2  @lucy_larkman there are hacks on how to save h...  positive\n",
              "2  P3  Hi Rica Cunanan : ricacunanan09 Do u want to g...  positive\n",
              "3  P4  Hi Ariane Valentine : mainlyboredom Do u want ...  positive\n",
              "4  P5  Hi eastside_crazii : rthompson672 Do u want to...  positive"
            ]
          },
          "metadata": {
            "tags": []
          },
          "execution_count": 3
        }
      ]
    },
    {
      "cell_type": "code",
      "metadata": {
        "id": "N6mLjjPQVzJW",
        "colab": {
          "base_uri": "https://localhost:8080/"
        },
        "outputId": "8f97b097-e880-45bf-f4ed-d963835c0441"
      },
      "source": [
        "# Info for the train_data file\r\n",
        "train_data.info() "
      ],
      "execution_count": 4,
      "outputs": [
        {
          "output_type": "stream",
          "text": [
            "<class 'pandas.core.frame.DataFrame'>\n",
            "Int64Index: 120 entries, 0 to 119\n",
            "Data columns (total 3 columns):\n",
            " #   Column     Non-Null Count  Dtype \n",
            "---  ------     --------------  ----- \n",
            " 0   ID         120 non-null    object\n",
            " 1   Text       120 non-null    object\n",
            " 2   Sentiment  120 non-null    object\n",
            "dtypes: object(3)\n",
            "memory usage: 3.8+ KB\n"
          ],
          "name": "stdout"
        }
      ]
    },
    {
      "cell_type": "code",
      "metadata": {
        "id": "Uu01BC2rZKRA",
        "colab": {
          "base_uri": "https://localhost:8080/",
          "height": 195
        },
        "outputId": "b944b9f5-e523-4f6f-b330-f757bb8455d7"
      },
      "source": [
        "# Analyze the 1st 5 posts of test_data file\r\n",
        "test_data.head()"
      ],
      "execution_count": 5,
      "outputs": [
        {
          "output_type": "execute_result",
          "data": {
            "text/html": [
              "<div>\n",
              "<style scoped>\n",
              "    .dataframe tbody tr th:only-of-type {\n",
              "        vertical-align: middle;\n",
              "    }\n",
              "\n",
              "    .dataframe tbody tr th {\n",
              "        vertical-align: top;\n",
              "    }\n",
              "\n",
              "    .dataframe thead th {\n",
              "        text-align: right;\n",
              "    }\n",
              "</style>\n",
              "<table border=\"1\" class=\"dataframe\">\n",
              "  <thead>\n",
              "    <tr style=\"text-align: right;\">\n",
              "      <th></th>\n",
              "      <th>ID</th>\n",
              "      <th>Text</th>\n",
              "      <th>Sentiment</th>\n",
              "    </tr>\n",
              "  </thead>\n",
              "  <tbody>\n",
              "    <tr>\n",
              "      <th>0</th>\n",
              "      <td>P1</td>\n",
              "      <td>Who is ready for iPhone 6s and iPhone 6s Plus?...</td>\n",
              "      <td>positive</td>\n",
              "    </tr>\n",
              "    <tr>\n",
              "      <th>1</th>\n",
              "      <td>P2</td>\n",
              "      <td>fadfsdafasd dfdfddf :)</td>\n",
              "      <td>positive</td>\n",
              "    </tr>\n",
              "    <tr>\n",
              "      <th>2</th>\n",
              "      <td>P3</td>\n",
              "      <td>Hi Rica Cunanan : ricacunanan09 Do u want to g...</td>\n",
              "      <td>positive</td>\n",
              "    </tr>\n",
              "    <tr>\n",
              "      <th>3</th>\n",
              "      <td>P4</td>\n",
              "      <td>Hi Ariane Valentine : mainlyboredom Do u want ...</td>\n",
              "      <td>positive</td>\n",
              "    </tr>\n",
              "    <tr>\n",
              "      <th>4</th>\n",
              "      <td>P5</td>\n",
              "      <td>Hi eastside_crazii : rthompson672 Do u want to...</td>\n",
              "      <td>positive</td>\n",
              "    </tr>\n",
              "  </tbody>\n",
              "</table>\n",
              "</div>"
            ],
            "text/plain": [
              "   ID                                               Text Sentiment\n",
              "0  P1  Who is ready for iPhone 6s and iPhone 6s Plus?...  positive\n",
              "1  P2                             fadfsdafasd dfdfddf :)  positive\n",
              "2  P3  Hi Rica Cunanan : ricacunanan09 Do u want to g...  positive\n",
              "3  P4  Hi Ariane Valentine : mainlyboredom Do u want ...  positive\n",
              "4  P5  Hi eastside_crazii : rthompson672 Do u want to...  positive"
            ]
          },
          "metadata": {
            "tags": []
          },
          "execution_count": 5
        }
      ]
    },
    {
      "cell_type": "code",
      "metadata": {
        "id": "HzsXr0BKZVG0",
        "colab": {
          "base_uri": "https://localhost:8080/"
        },
        "outputId": "68f37b1e-ece1-431f-873f-5fec3a04286b"
      },
      "source": [
        "# Info for the test_data file\r\n",
        "test_data.info()"
      ],
      "execution_count": 6,
      "outputs": [
        {
          "output_type": "stream",
          "text": [
            "<class 'pandas.core.frame.DataFrame'>\n",
            "RangeIndex: 19 entries, 0 to 18\n",
            "Data columns (total 3 columns):\n",
            " #   Column     Non-Null Count  Dtype \n",
            "---  ------     --------------  ----- \n",
            " 0   ID         19 non-null     object\n",
            " 1   Text       19 non-null     object\n",
            " 2   Sentiment  19 non-null     object\n",
            "dtypes: object(3)\n",
            "memory usage: 584.0+ bytes\n"
          ],
          "name": "stdout"
        }
      ]
    },
    {
      "cell_type": "markdown",
      "metadata": {
        "id": "9Nuru6S0D3Vj"
      },
      "source": [
        "# **Data Visualization**"
      ]
    },
    {
      "cell_type": "code",
      "metadata": {
        "id": "3k4MwpExZfna",
        "colab": {
          "base_uri": "https://localhost:8080/",
          "height": 296
        },
        "outputId": "e52729a5-420e-4277-c6db-aeb30c82f956"
      },
      "source": [
        "# Diagram of the train_data file with number of posts and negantive files\r\n",
        "sns.countplot(x='Sentiment',data=train_data)"
      ],
      "execution_count": 7,
      "outputs": [
        {
          "output_type": "execute_result",
          "data": {
            "text/plain": [
              "<matplotlib.axes._subplots.AxesSubplot at 0x7fefeb93d550>"
            ]
          },
          "metadata": {
            "tags": []
          },
          "execution_count": 7
        },
        {
          "output_type": "display_data",
          "data": {
            "image/png": "[encoded data removed]",
            "text/plain": [
              "<Figure size 432x288 with 1 Axes>"
            ]
          },
          "metadata": {
            "tags": [],
            "needs_background": "light"
          }
        }
      ]
    },
    {
      "cell_type": "code",
      "metadata": {
        "id": "2J-hwdSh5RDz",
        "colab": {
          "base_uri": "https://localhost:8080/",
          "height": 296
        },
        "outputId": "3d4b36a5-2614-4bd8-a0eb-3a50b457042c"
      },
      "source": [
        "sns.countplot(x='Sentiment',data=test_data)"
      ],
      "execution_count": 8,
      "outputs": [
        {
          "output_type": "execute_result",
          "data": {
            "text/plain": [
              "<matplotlib.axes._subplots.AxesSubplot at 0x7fefeb89b1d0>"
            ]
          },
          "metadata": {
            "tags": []
          },
          "execution_count": 8
        },
        {
          "output_type": "display_data",
          "data": {
            "image/png": "[encoded data removed]",
            "text/plain": [
              "<Figure size 432x288 with 1 Axes>"
            ]
          },
          "metadata": {
            "tags": [],
            "needs_background": "light"
          }
        }
      ]
    },
    {
      "cell_type": "markdown",
      "metadata": {
        "id": "VrCDIIS7d85j"
      },
      "source": [
        "# **Data Training**"
      ]
    },
    {
      "cell_type": "markdown",
      "metadata": {
        "id": "KNZWh2xeEIE_"
      },
      "source": [
        "# **Remove Empty Tweets**"
      ]
    },
    {
      "cell_type": "code",
      "metadata": {
        "id": "1R3T4hUNTgrP"
      },
      "source": [
        "# remove tweets with empty sentiment column\r\n",
        "\r\n",
        "train_data = train_data[train_data['Sentiment'] != \"\"]\r\n",
        "\r\n"
      ],
      "execution_count": 9,
      "outputs": []
    },
    {
      "cell_type": "code",
      "metadata": {
        "colab": {
          "base_uri": "https://localhost:8080/"
        },
        "id": "FJhWRkWwUFNx",
        "outputId": "7af1e3ad-9b7c-4962-c82f-b981adde4154"
      },
      "source": [
        "train_data.info()"
      ],
      "execution_count": 10,
      "outputs": [
        {
          "output_type": "stream",
          "text": [
            "<class 'pandas.core.frame.DataFrame'>\n",
            "Int64Index: 120 entries, 0 to 119\n",
            "Data columns (total 3 columns):\n",
            " #   Column     Non-Null Count  Dtype \n",
            "---  ------     --------------  ----- \n",
            " 0   ID         120 non-null    object\n",
            " 1   Text       120 non-null    object\n",
            " 2   Sentiment  120 non-null    object\n",
            "dtypes: object(3)\n",
            "memory usage: 3.8+ KB\n"
          ],
          "name": "stdout"
        }
      ]
    },
    {
      "cell_type": "markdown",
      "metadata": {
        "id": "ay3gDDBmESJP"
      },
      "source": [
        "# **Tweet Cleaning**"
      ]
    },
    {
      "cell_type": "code",
      "metadata": {
        "id": "I6W32e01Zuq6"
      },
      "source": [
        "\n",
        "\n",
        " #Function to clean tweets\n",
        " #Remove URLs\n",
        " #Remove usernames (mentions)\n",
        " #Remove special characters EXCEPT FROM :,)\n",
        " #Remove Numbers \n",
        "\n",
        "\n",
        "\n",
        "def clean_tweets(tweet):\n",
        "    \n",
        "    # remove URL\n",
        "    tweet = re.sub(r\"http\\S+\", \"\", tweet)\n",
        "    \n",
        "    # Remove usernames\n",
        "    tweet = re.sub(r\"@[^\\s]+[\\s]?\",'',tweet)\n",
        "\n",
        "     # remove special characters \n",
        "    tweet = re.sub('[^ a-zA-Z0-9]' , '', tweet)\n",
        "    \n",
        "    # remove Numbers\n",
        "    tweet = re.sub('[0-9]', '', tweet)\n",
        "    \n",
        "    \n",
        "    \n",
        "    \n",
        "    \n",
        "    return tweet\n",
        "\n"
      ],
      "execution_count": 11,
      "outputs": []
    },
    {
      "cell_type": "code",
      "metadata": {
        "id": "Fe1zeVo0a9fQ"
      },
      "source": [
        "# Apply function to Text column with clean text\n",
        "train_data['Text'] = train_data['Text'].apply(clean_tweets)\n"
      ],
      "execution_count": 12,
      "outputs": []
    },
    {
      "cell_type": "code",
      "metadata": {
        "id": "V42QcdAhzaI4",
        "colab": {
          "base_uri": "https://localhost:8080/"
        },
        "outputId": "c3523be2-c1bc-49fb-e095-79eae0b4790e"
      },
      "source": [
        "#Analyze the 1st 5 posts of train_data file after cleaning with Name of column and datatype!\r\n",
        "train_data['Text'].head()"
      ],
      "execution_count": 13,
      "outputs": [
        {
          "output_type": "execute_result",
          "data": {
            "text/plain": [
              "0    Who is ready for iPhone s and iPhone s Plus I ...\n",
              "1    there are hacks on how to save heaps of batter...\n",
              "2    Hi Rica Cunanan  ricacunanan Do u want to get ...\n",
              "3    Hi Ariane Valentine  mainlyboredom Do u want t...\n",
              "4    Hi eastsidecrazii  rthompson Do u want to get ...\n",
              "Name: Text, dtype: object"
            ]
          },
          "metadata": {
            "tags": []
          },
          "execution_count": 13
        }
      ]
    },
    {
      "cell_type": "markdown",
      "metadata": {
        "id": "YUU_UEfjDfQD"
      },
      "source": [
        "# **Tokenize & Stremming**"
      ]
    },
    {
      "cell_type": "code",
      "metadata": {
        "colab": {
          "base_uri": "https://localhost:8080/"
        },
        "id": "9yufH4g6UsPL",
        "outputId": "f15bb7b3-4516-4a04-9496-bdbea9be579a"
      },
      "source": [
        "# Function which directly tokenize the text data\r\n",
        "from nltk.tokenize import TweetTokenizer\r\n",
        "\r\n",
        "tt = TweetTokenizer()\r\n",
        "train_data['Text'].apply(tt.tokenize)"
      ],
      "execution_count": 14,
      "outputs": [
        {
          "output_type": "execute_result",
          "data": {
            "text/plain": [
              "0      [Who, is, ready, for, iPhone, s, and, iPhone, ...\n",
              "1      [there, are, hacks, on, how, to, save, heaps, ...\n",
              "2      [Hi, Rica, Cunanan, ricacunanan, Do, u, want, ...\n",
              "3      [Hi, Ariane, Valentine, mainlyboredom, Do, u, ...\n",
              "4      [Hi, eastsidecrazii, rthompson, Do, u, want, t...\n",
              "                             ...                        \n",
              "115    [When, youre, sitting, there, waiting, for, th...\n",
              "116                                          [Iphone, s]\n",
              "117          [I, WANNA, iPHONE, TOO, I, HAVE, NO, PHONE]\n",
              "118    [maybe, some, of, us, like, our, iPhone, Fives...\n",
              "119    [Today, is, the, iPhone, S, release, date, May...\n",
              "Name: Text, Length: 120, dtype: object"
            ]
          },
          "metadata": {
            "tags": []
          },
          "execution_count": 14
        }
      ]
    },
    {
      "cell_type": "code",
      "metadata": {
        "id": "LOuK7HZUUyVj"
      },
      "source": [
        "from nltk.stem import PorterStemmer   #Libraries for tokenize words and stremming\r\n",
        "from nltk.tokenize import sent_tokenize, word_tokenize\r\n",
        "\r\n",
        "ps = PorterStemmer()"
      ],
      "execution_count": 15,
      "outputs": []
    },
    {
      "cell_type": "code",
      "metadata": {
        "id": "WuZ-KGzgUz6-"
      },
      "source": [
        "def tokenize(text):                    # funtion for tokenize words and stremming\r\n",
        "    return word_tokenize(text)\r\n",
        "\r\n",
        "def stemming(words):\r\n",
        "    stem_words = []\r\n",
        "    for w in words:\r\n",
        "        w = ps.stem(w)\r\n",
        "        stem_words.append(w)\r\n",
        "    \r\n",
        "    return stem_words"
      ],
      "execution_count": 16,
      "outputs": []
    },
    {
      "cell_type": "code",
      "metadata": {
        "id": "xayXJboYU0Ej"
      },
      "source": [
        "# apply tokenize function\r\n",
        "train_data['tokenized'] = train_data['Text'].apply(tokenize)"
      ],
      "execution_count": 17,
      "outputs": []
    },
    {
      "cell_type": "code",
      "metadata": {
        "id": "QHM3tt98U_xt"
      },
      "source": [
        "# apply stemming function\r\n",
        "train_data['stremming'] = train_data['tokenized'].apply(stemming)"
      ],
      "execution_count": 18,
      "outputs": []
    },
    {
      "cell_type": "code",
      "metadata": {
        "colab": {
          "base_uri": "https://localhost:8080/",
          "height": 195
        },
        "id": "TtYZ_SwnVABN",
        "outputId": "010ef278-30b8-4cdf-da1f-ccfbae502a9c"
      },
      "source": [
        "train_data.head()  #See the 1st 5 tokenize reults"
      ],
      "execution_count": 19,
      "outputs": [
        {
          "output_type": "execute_result",
          "data": {
            "text/html": [
              "<div>\n",
              "<style scoped>\n",
              "    .dataframe tbody tr th:only-of-type {\n",
              "        vertical-align: middle;\n",
              "    }\n",
              "\n",
              "    .dataframe tbody tr th {\n",
              "        vertical-align: top;\n",
              "    }\n",
              "\n",
              "    .dataframe thead th {\n",
              "        text-align: right;\n",
              "    }\n",
              "</style>\n",
              "<table border=\"1\" class=\"dataframe\">\n",
              "  <thead>\n",
              "    <tr style=\"text-align: right;\">\n",
              "      <th></th>\n",
              "      <th>ID</th>\n",
              "      <th>Text</th>\n",
              "      <th>Sentiment</th>\n",
              "      <th>tokenized</th>\n",
              "      <th>stremming</th>\n",
              "    </tr>\n",
              "  </thead>\n",
              "  <tbody>\n",
              "    <tr>\n",
              "      <th>0</th>\n",
              "      <td>P1</td>\n",
              "      <td>Who is ready for iPhone s and iPhone s Plus I ...</td>\n",
              "      <td>positive</td>\n",
              "      <td>[Who, is, ready, for, iPhone, s, and, iPhone, ...</td>\n",
              "      <td>[who, is, readi, for, iphon, s, and, iphon, s,...</td>\n",
              "    </tr>\n",
              "    <tr>\n",
              "      <th>1</th>\n",
              "      <td>P2</td>\n",
              "      <td>there are hacks on how to save heaps of batter...</td>\n",
              "      <td>positive</td>\n",
              "      <td>[there, are, hacks, on, how, to, save, heaps, ...</td>\n",
              "      <td>[there, are, hack, on, how, to, save, heap, of...</td>\n",
              "    </tr>\n",
              "    <tr>\n",
              "      <th>2</th>\n",
              "      <td>P3</td>\n",
              "      <td>Hi Rica Cunanan  ricacunanan Do u want to get ...</td>\n",
              "      <td>positive</td>\n",
              "      <td>[Hi, Rica, Cunanan, ricacunanan, Do, u, want, ...</td>\n",
              "      <td>[Hi, rica, cunanan, ricacunanan, Do, u, want, ...</td>\n",
              "    </tr>\n",
              "    <tr>\n",
              "      <th>3</th>\n",
              "      <td>P4</td>\n",
              "      <td>Hi Ariane Valentine  mainlyboredom Do u want t...</td>\n",
              "      <td>positive</td>\n",
              "      <td>[Hi, Ariane, Valentine, mainlyboredom, Do, u, ...</td>\n",
              "      <td>[Hi, arian, valentin, mainlyboredom, Do, u, wa...</td>\n",
              "    </tr>\n",
              "    <tr>\n",
              "      <th>4</th>\n",
              "      <td>P5</td>\n",
              "      <td>Hi eastsidecrazii  rthompson Do u want to get ...</td>\n",
              "      <td>positive</td>\n",
              "      <td>[Hi, eastsidecrazii, rthompson, Do, u, want, t...</td>\n",
              "      <td>[Hi, eastsidecrazii, rthompson, Do, u, want, t...</td>\n",
              "    </tr>\n",
              "  </tbody>\n",
              "</table>\n",
              "</div>"
            ],
            "text/plain": [
              "   ID  ...                                          stremming\n",
              "0  P1  ...  [who, is, readi, for, iphon, s, and, iphon, s,...\n",
              "1  P2  ...  [there, are, hack, on, how, to, save, heap, of...\n",
              "2  P3  ...  [Hi, rica, cunanan, ricacunanan, Do, u, want, ...\n",
              "3  P4  ...  [Hi, arian, valentin, mainlyboredom, Do, u, wa...\n",
              "4  P5  ...  [Hi, eastsidecrazii, rthompson, Do, u, want, t...\n",
              "\n",
              "[5 rows x 5 columns]"
            ]
          },
          "metadata": {
            "tags": []
          },
          "execution_count": 19
        }
      ]
    },
    {
      "cell_type": "markdown",
      "metadata": {
        "id": "hd14EJQ6DwBY"
      },
      "source": [
        "# **Wordlist file**"
      ]
    },
    {
      "cell_type": "code",
      "metadata": {
        "colab": {
          "base_uri": "https://localhost:8080/"
        },
        "id": "rNdZmxmvVAEa",
        "outputId": "aa7fecef-0efa-4dac-9e09-87398b351bdd"
      },
      "source": [
        "words = Counter()                       # Words analyze  (5 most common) with count of them\r\n",
        "for idx in train_data.index:\r\n",
        "    words.update(train_data.loc[idx, \"tokenized\"])\r\n",
        "\r\n",
        "words.most_common(5)"
      ],
      "execution_count": 20,
      "outputs": [
        {
          "output_type": "execute_result",
          "data": {
            "text/plain": [
              "[('iPhone', 98), ('my', 73), ('get', 65), ('Hi', 57), ('FREE', 57)]"
            ]
          },
          "metadata": {
            "tags": []
          },
          "execution_count": 20
        }
      ]
    },
    {
      "cell_type": "code",
      "metadata": {
        "colab": {
          "base_uri": "https://localhost:8080/"
        },
        "id": "_locqyG1VAGY",
        "outputId": "37c2aa27-db34-4a48-c77a-a542a6afa5f2"
      },
      "source": [
        "nltk.download('stopwords')\r\n",
        "stopwords=nltk.corpus.stopwords.words(\"english\")"
      ],
      "execution_count": 21,
      "outputs": [
        {
          "output_type": "stream",
          "text": [
            "[nltk_data] Downloading package stopwords to /root/nltk_data...\n",
            "[nltk_data]   Unzipping corpora/stopwords.zip.\n"
          ],
          "name": "stdout"
        }
      ]
    },
    {
      "cell_type": "code",
      "metadata": {
        "colab": {
          "base_uri": "https://localhost:8080/"
        },
        "id": "dv9QziH7VrZF",
        "outputId": "53f65297-50b6-46df-8f00-be8458201dbc"
      },
      "source": [
        "whitelist = [\"n't\", \"not\"]\r\n",
        "for idx, stop_word in enumerate(stopwords):\r\n",
        "    if stop_word not in whitelist:\r\n",
        "        del words[stop_word]\r\n",
        "words.most_common(5)"
      ],
      "execution_count": 22,
      "outputs": [
        {
          "output_type": "execute_result",
          "data": {
            "text/plain": [
              "[('iPhone', 98), ('get', 65), ('Hi', 57), ('FREE', 57), ('check', 57)]"
            ]
          },
          "metadata": {
            "tags": []
          },
          "execution_count": 22
        }
      ]
    },
    {
      "cell_type": "code",
      "metadata": {
        "id": "casfmCgTVrbt"
      },
      "source": [
        "def word_list(processed_data): # wORDLIST FUNCTION FOR ANALYZE MOST COMMON WORDS WITH PURPOSE TO IDENTIFY OUR APP THE REAL SENTIMENT\r\n",
        "    #print(processed_data)\r\n",
        "    min_occurrences=3 \r\n",
        "    max_occurences=500 \r\n",
        "    stopwords=nltk.corpus.stopwords.words(\"english\")\r\n",
        "    whitelist = [\"n't\",\"not\"]\r\n",
        "    wordlist = []\r\n",
        "    \r\n",
        "    whitelist = whitelist if whitelist is None else whitelist\r\n",
        "    \r\n",
        "    words = Counter()\r\n",
        "    for idx in processed_data.index:\r\n",
        "        words.update(processed_data.loc[idx, \"tokenized\"])\r\n",
        "\r\n",
        "    for idx, stop_word in enumerate(stopwords):\r\n",
        "        if stop_word not in whitelist:\r\n",
        "            del words[stop_word]\r\n",
        "    #print(words)\r\n",
        "\r\n",
        "    word_df = pd.DataFrame(data={\"word\": [k for k, v in words.most_common() if min_occurrences < v < max_occurences],\r\n",
        "                                 \"occurrences\": [v for k, v in words.most_common() if min_occurrences < v < max_occurences]},\r\n",
        "                           columns=[\"word\", \"occurrences\"])\r\n",
        "    #print(word_df)\r\n",
        "    word_df.to_csv(\"wordlist.csv\", index_label=\"idx\")\r\n",
        "    wordlist = [k for k, v in words.most_common() if min_occurrences < v < max_occurences]\r\n",
        "    #print(wordlist)"
      ],
      "execution_count": 23,
      "outputs": []
    },
    {
      "cell_type": "code",
      "metadata": {
        "id": "lw2M-5clVre4"
      },
      "source": [
        "word_list(train_data)    #TRAIN DATA INTO WORDLIST FOR ANALYZE"
      ],
      "execution_count": 24,
      "outputs": []
    },
    {
      "cell_type": "code",
      "metadata": {
        "id": "UzeoAT34VrhK"
      },
      "source": [
        "words = pd.read_csv(\"wordlist.csv\") #CREATE WORDLIST CSV WITH THE MOST COMMON WORDS"
      ],
      "execution_count": 25,
      "outputs": []
    },
    {
      "cell_type": "markdown",
      "metadata": {
        "id": "uU-tg1myD43R"
      },
      "source": [
        "# **Bag of Words**"
      ]
    },
    {
      "cell_type": "code",
      "metadata": {
        "id": "ZBWrKVN6WRv3"
      },
      "source": [
        "import os\r\n",
        "wordlist= []      #CREATE THE FILE WORDLIST\r\n",
        "if os.path.isfile(\"wordlist.csv\"):\r\n",
        "    word_df = pd.read_csv(\"wordlist.csv\")\r\n",
        "    word_df = word_df[word_df[\"occurrences\"] > 3]\r\n",
        "    wordlist = list(word_df.loc[:, \"word\"])\r\n",
        "\r\n",
        "label_column = [\"label\"]\r\n",
        "columns = label_column + list(map(lambda w: w + \"_bow\",wordlist))\r\n",
        "labels = []\r\n",
        "rows = []\r\n",
        "for idx in train_data.index:\r\n",
        "    current_row = []\r\n",
        "    \r\n",
        "    # add label\r\n",
        "    current_label = train_data.loc[idx, \"Sentiment\"]\r\n",
        "    labels.append(current_label)\r\n",
        "    current_row.append(current_label)\r\n",
        "\r\n",
        "    # add bag-of-words\r\n",
        "    tokens = set(train_data.loc[idx, \"tokenized\"])\r\n",
        "    for _, word in enumerate(wordlist):\r\n",
        "        current_row.append(1 if word in tokens else 0)\r\n",
        "\r\n",
        "    rows.append(current_row)\r\n",
        "\r\n",
        "data_model = pd.DataFrame(rows, columns=columns)\r\n",
        "data_labels = pd.Series(labels)\r\n",
        "\r\n",
        "\r\n",
        "bow = data_model"
      ],
      "execution_count": 26,
      "outputs": []
    },
    {
      "cell_type": "markdown",
      "metadata": {
        "id": "LlOfnWu3D_Uv"
      },
      "source": [
        "# **Classification**"
      ]
    },
    {
      "cell_type": "code",
      "metadata": {
        "id": "V4J1pnmgWRy_"
      },
      "source": [
        "import random    #Randomize the Texts\r\n",
        "seed = 777\r\n",
        "random.seed(seed)"
      ],
      "execution_count": 27,
      "outputs": []
    },
    {
      "cell_type": "code",
      "metadata": {
        "id": "y4vANEQpoSXc"
      },
      "source": [
        " def log(x):\r\n",
        "    #can be used to write to log file\r\n",
        "     print(x)"
      ],
      "execution_count": 28,
      "outputs": []
    },
    {
      "cell_type": "code",
      "metadata": {
        "id": "MYGbDLl4WR2C"
      },
      "source": [
        "def test_classifier(X_train, y_train, X_test, y_test, classifier):\r\n",
        "    log(\"\")\r\n",
        "    log(\"---------------------------------------------------------\")\r\n",
        "    log(\"Testing \" + str(type(classifier).__name__))\r\n",
        "    now = time()\r\n",
        "    list_of_labels = sorted(list(set(y_train)))\r\n",
        "    model = classifier.fit(X_train, y_train)\r\n",
        "    log(\"Learing time {0}s\".format(time() - now))\r\n",
        "    now = time()\r\n",
        "    predictions = model.predict(X_test)\r\n",
        "    log(\"Predicting time {0}s\".format(time() - now))\r\n",
        "\r\n",
        "    # Calculate Accuracy, Precision, recall computation\r\n",
        "    \r\n",
        "    precision = precision_score(y_test, predictions, average=None, pos_label=None, labels=list_of_labels)\r\n",
        "    recall = recall_score(y_test, predictions, average=None, pos_label=None, labels=list_of_labels)\r\n",
        "    accuracy = accuracy_score(y_test, predictions)\r\n",
        "    f1 = f1_score(y_test, predictions, average=None, pos_label=None, labels=list_of_labels)\r\n",
        "    \r\n",
        "    log(\"=================== Results ===================\")\r\n",
        "    log(\"         Negative   Positive          \")\r\n",
        "    log(\"F1       \" +   str(f1))\r\n",
        "    log(\"Precision\" +   str(precision))\r\n",
        "    log(\"Recall   \" +   str(recall))\r\n",
        "    log(\"Accuracy \" +   str(accuracy))\r\n",
        "    log(\"===============================================\")\r\n",
        "\r\n",
        "    return precision, recall, accuracy, f1\r\n",
        "   \r\n",
        "   \r\n"
      ],
      "execution_count": 29,
      "outputs": []
    },
    {
      "cell_type": "code",
      "metadata": {
        "id": "XAZg2lmcE8jI"
      },
      "source": [
        "def cv(classifier, X_train, y_train):\n",
        "    log(\"===============================================\")\n",
        "    classifier_name = str(type(classifier).__name__)\n",
        "    now = time()\n",
        "    log(\"Crossvalidating \" + classifier_name + \"...\")\n",
        "    accuracy = [cross_val_score(classifier, X_train, y_train, cv=8, n_jobs=-1)]\n",
        "    log(\"Crosvalidation completed in {0}s\".format(time() - now))\n",
        "    log(\"Accuracy: \" + str(accuracy[0]))\n",
        "    log(\"Average accuracy: \" + str(np.array(accuracy[0]).mean()))\n",
        "    log(\"===============================================\")\n",
        "    return accuracy"
      ],
      "execution_count": 30,
      "outputs": []
    },
    {
      "cell_type": "code",
      "metadata": {
        "colab": {
          "base_uri": "https://localhost:8080/"
        },
        "id": "FTgd1naHE8mP",
        "outputId": "66c2b62b-f56d-48df-950b-147797084a67"
      },
      "source": [
        "train_data.columns"
      ],
      "execution_count": 31,
      "outputs": [
        {
          "output_type": "execute_result",
          "data": {
            "text/plain": [
              "Index(['ID', 'Text', 'Sentiment', 'tokenized', 'stremming'], dtype='object')"
            ]
          },
          "metadata": {
            "tags": []
          },
          "execution_count": 31
        }
      ]
    },
    {
      "cell_type": "code",
      "metadata": {
        "id": "axyT-zUUE8pQ"
      },
      "source": [
        "dat1 = train_data\n",
        "dat2 = data_model\n",
        "\n",
        "dat1 = dat1.reset_index(drop=True)\n",
        "dat2 = dat2.reset_index(drop=True)\n",
        "\n",
        "data_model = dat1.join(dat2)"
      ],
      "execution_count": 32,
      "outputs": []
    },
    {
      "cell_type": "code",
      "metadata": {
        "id": "X2LxPtMpE8vA"
      },
      "source": [
        "data_model = data_model.drop(columns=['ID', 'Text', 'Sentiment', 'tokenized', 'stremming'], axis=1)"
      ],
      "execution_count": 33,
      "outputs": []
    },
    {
      "cell_type": "markdown",
      "metadata": {
        "id": "ggAX4C23EHv3"
      },
      "source": [
        "# **Naive Bayes**"
      ]
    },
    {
      "cell_type": "code",
      "metadata": {
        "colab": {
          "base_uri": "https://localhost:8080/"
        },
        "id": "EoclLwGCWR5D",
        "outputId": "2a73194b-717d-4eb2-98fd-167a60a9edc5"
      },
      "source": [
        "\r\n",
        "from sklearn.naive_bayes import BernoulliNB  #Print f1, Precision, Recall ,Accuracy Score got Negatives and Positives Posts\r\n",
        "X_train, X_test, y_train, y_test = train_test_split(bow.iloc[:, 1:], bow['label'], test_size=0.3)\r\n",
        "precision, recall, accuracy, f1 = test_classifier(X_train, y_train, X_test, y_test, BernoulliNB())"
      ],
      "execution_count": 34,
      "outputs": [
        {
          "output_type": "stream",
          "text": [
            "\n",
            "---------------------------------------------------------\n",
            "Testing BernoulliNB\n",
            "Learing time 0.0030066967010498047s\n",
            "Predicting time 0.0012362003326416016s\n",
            "=================== Results ===================\n",
            "         Negative   Positive          \n",
            "F1       [0.72727273 0.76923077]\n",
            "Precision[0.57142857 1.        ]\n",
            "Recall   [1.    0.625]\n",
            "Accuracy 0.75\n",
            "===============================================\n"
          ],
          "name": "stdout"
        }
      ]
    },
    {
      "cell_type": "code",
      "metadata": {
        "colab": {
          "base_uri": "https://localhost:8080/"
        },
        "id": "p_pyR4ozE805",
        "outputId": "83657acc-57fd-4eb5-f542-18d7996b6d04"
      },
      "source": [
        "bn_acc = cv( BernoulliNB(),data_model.drop(columns='label',axis=1), data_model['label'])"
      ],
      "execution_count": 38,
      "outputs": [
        {
          "output_type": "stream",
          "text": [
            "===============================================\n",
            "Crossvalidating BernoulliNB...\n",
            "Crosvalidation completed in 0.04886269569396973s\n",
            "Accuracy: [0.86666667 0.6        0.6        0.93333333 0.93333333 0.8\n",
            " 0.93333333 0.86666667]\n",
            "Average accuracy: 0.8166666666666667\n",
            "===============================================\n"
          ],
          "name": "stdout"
        }
      ]
    },
    {
      "cell_type": "markdown",
      "metadata": {
        "id": "wMwGBrhzELd3"
      },
      "source": [
        "# **Random Forest**"
      ]
    },
    {
      "cell_type": "code",
      "metadata": {
        "colab": {
          "base_uri": "https://localhost:8080/"
        },
        "id": "jKrIXHGQGe7y",
        "outputId": "8bc49743-fdc5-4dd7-d9a8-97114ad3732f"
      },
      "source": [
        "from sklearn.ensemble import RandomForestClassifier\r\n",
        "X_train, X_test, y_train, y_test = train_test_split(data_model.drop(columns='label',axis=1),data_model['label'] , test_size=0.3)\r\n",
        "precision, recall, accuracy, f1 = test_classifier(X_train, y_train, X_test, y_test, RandomForestClassifier(random_state=seed,n_estimators=403,n_jobs=-1))"
      ],
      "execution_count": 39,
      "outputs": [
        {
          "output_type": "stream",
          "text": [
            "\n",
            "---------------------------------------------------------\n",
            "Testing RandomForestClassifier\n",
            "Learing time 0.7776939868927002s\n",
            "Predicting time 0.10477209091186523s\n",
            "=================== Results ===================\n",
            "         Negative   Positive          \n",
            "F1       [0.5  0.75]\n",
            "Precision[0.66666667 0.66666667]\n",
            "Recall   [0.4        0.85714286]\n",
            "Accuracy 0.6666666666666666\n",
            "===============================================\n"
          ],
          "name": "stdout"
        }
      ]
    },
    {
      "cell_type": "code",
      "metadata": {
        "colab": {
          "base_uri": "https://localhost:8080/"
        },
        "id": "6Nq1UhEiE8x5",
        "outputId": "468ed54d-d554-4e52-c643-26226a352231"
      },
      "source": [
        "rf_acc = cv(RandomForestClassifier(n_estimators=403,n_jobs=-1, random_state=seed),data_model.drop(columns='label',axis=1), data_model['label'])"
      ],
      "execution_count": 40,
      "outputs": [
        {
          "output_type": "stream",
          "text": [
            "===============================================\n",
            "Crossvalidating RandomForestClassifier...\n",
            "Crosvalidation completed in 4.48295259475708s\n",
            "Accuracy: [0.86666667 0.6        0.6        0.73333333 0.86666667 0.73333333\n",
            " 0.8        0.8       ]\n",
            "Average accuracy: 0.75\n",
            "===============================================\n"
          ],
          "name": "stdout"
        }
      ]
    },
    {
      "cell_type": "markdown",
      "metadata": {
        "id": "HJ7aDWjXEUU_"
      },
      "source": [
        "# **XGBoost**"
      ]
    },
    {
      "cell_type": "code",
      "metadata": {
        "colab": {
          "base_uri": "https://localhost:8080/"
        },
        "id": "zZzbEqpxGkXF",
        "outputId": "05a51445-c5ef-4b56-b1f4-86e5e6611d22"
      },
      "source": [
        "from xgboost import XGBClassifier as XGBoostClassifier\r\n",
        "X_train, X_test, y_train, y_test = train_test_split(data_model.drop(columns='label',axis=1),data_model['label'] , test_size=0.3)\r\n",
        "precision, recall, accuracy, f1 = test_classifier(X_train, y_train, X_test, y_test, XGBoostClassifier(seed=seed))"
      ],
      "execution_count": 41,
      "outputs": [
        {
          "output_type": "stream",
          "text": [
            "\n",
            "---------------------------------------------------------\n",
            "Testing XGBClassifier\n",
            "Learing time 0.1243584156036377s\n",
            "Predicting time 0.0021386146545410156s\n",
            "=================== Results ===================\n",
            "         Negative   Positive          \n",
            "F1       [0.70967742 0.7804878 ]\n",
            "Precision[0.57894737 0.94117647]\n",
            "Recall   [0.91666667 0.66666667]\n",
            "Accuracy 0.75\n",
            "===============================================\n"
          ],
          "name": "stdout"
        }
      ]
    },
    {
      "cell_type": "code",
      "metadata": {
        "colab": {
          "base_uri": "https://localhost:8080/"
        },
        "id": "ea0mbd5WE83w",
        "outputId": "e78e13f4-bbba-4751-aeee-9920baf28c1e"
      },
      "source": [
        "\n",
        "xg_acc = cv(XGBoostClassifier(seed=seed),data_model.drop(columns='label',axis=1), data_model['label'])"
      ],
      "execution_count": 42,
      "outputs": [
        {
          "output_type": "stream",
          "text": [
            "===============================================\n",
            "Crossvalidating XGBClassifier...\n",
            "Crosvalidation completed in 0.23084640502929688s\n",
            "Accuracy: [0.73333333 0.6        0.6        0.8        0.86666667 0.86666667\n",
            " 0.93333333 0.86666667]\n",
            "Average accuracy: 0.7833333333333333\n",
            "===============================================\n"
          ],
          "name": "stdout"
        }
      ]
    },
    {
      "cell_type": "markdown",
      "metadata": {
        "id": "5-5qqOtFY9qZ"
      },
      "source": [
        "# **Test Data**"
      ]
    },
    {
      "cell_type": "code",
      "metadata": {
        "colab": {
          "base_uri": "https://localhost:8080/",
          "height": 195
        },
        "id": "45wsYzGGIFNR",
        "outputId": "f5e47d88-4218-4cd3-a4af-d57b9ef69c9f"
      },
      "source": [
        "\n",
        "test_data.head()"
      ],
      "execution_count": 43,
      "outputs": [
        {
          "output_type": "execute_result",
          "data": {
            "text/html": [
              "<div>\n",
              "<style scoped>\n",
              "    .dataframe tbody tr th:only-of-type {\n",
              "        vertical-align: middle;\n",
              "    }\n",
              "\n",
              "    .dataframe tbody tr th {\n",
              "        vertical-align: top;\n",
              "    }\n",
              "\n",
              "    .dataframe thead th {\n",
              "        text-align: right;\n",
              "    }\n",
              "</style>\n",
              "<table border=\"1\" class=\"dataframe\">\n",
              "  <thead>\n",
              "    <tr style=\"text-align: right;\">\n",
              "      <th></th>\n",
              "      <th>ID</th>\n",
              "      <th>Text</th>\n",
              "      <th>Sentiment</th>\n",
              "    </tr>\n",
              "  </thead>\n",
              "  <tbody>\n",
              "    <tr>\n",
              "      <th>0</th>\n",
              "      <td>P1</td>\n",
              "      <td>Who is ready for iPhone 6s and iPhone 6s Plus?...</td>\n",
              "      <td>positive</td>\n",
              "    </tr>\n",
              "    <tr>\n",
              "      <th>1</th>\n",
              "      <td>P2</td>\n",
              "      <td>fadfsdafasd dfdfddf :)</td>\n",
              "      <td>positive</td>\n",
              "    </tr>\n",
              "    <tr>\n",
              "      <th>2</th>\n",
              "      <td>P3</td>\n",
              "      <td>Hi Rica Cunanan : ricacunanan09 Do u want to g...</td>\n",
              "      <td>positive</td>\n",
              "    </tr>\n",
              "    <tr>\n",
              "      <th>3</th>\n",
              "      <td>P4</td>\n",
              "      <td>Hi Ariane Valentine : mainlyboredom Do u want ...</td>\n",
              "      <td>positive</td>\n",
              "    </tr>\n",
              "    <tr>\n",
              "      <th>4</th>\n",
              "      <td>P5</td>\n",
              "      <td>Hi eastside_crazii : rthompson672 Do u want to...</td>\n",
              "      <td>positive</td>\n",
              "    </tr>\n",
              "  </tbody>\n",
              "</table>\n",
              "</div>"
            ],
            "text/plain": [
              "   ID                                               Text Sentiment\n",
              "0  P1  Who is ready for iPhone 6s and iPhone 6s Plus?...  positive\n",
              "1  P2                             fadfsdafasd dfdfddf :)  positive\n",
              "2  P3  Hi Rica Cunanan : ricacunanan09 Do u want to g...  positive\n",
              "3  P4  Hi Ariane Valentine : mainlyboredom Do u want ...  positive\n",
              "4  P5  Hi eastside_crazii : rthompson672 Do u want to...  positive"
            ]
          },
          "metadata": {
            "tags": []
          },
          "execution_count": 43
        }
      ]
    },
    {
      "cell_type": "code",
      "metadata": {
        "colab": {
          "base_uri": "https://localhost:8080/"
        },
        "id": "byCx5b2OIYqF",
        "outputId": "ad10a1fe-af13-4496-a954-2302f05a38ec"
      },
      "source": [
        "test_data.columns"
      ],
      "execution_count": 44,
      "outputs": [
        {
          "output_type": "execute_result",
          "data": {
            "text/plain": [
              "Index(['ID', 'Text', 'Sentiment'], dtype='object')"
            ]
          },
          "metadata": {
            "tags": []
          },
          "execution_count": 44
        }
      ]
    },
    {
      "cell_type": "code",
      "metadata": {
        "id": "6fpPwdq8IYtV"
      },
      "source": [
        "test_data = test_data[test_data['Text'] != \"\"]"
      ],
      "execution_count": 45,
      "outputs": []
    },
    {
      "cell_type": "code",
      "metadata": {
        "id": "VjoOntbWIYwq"
      },
      "source": [
        "# Drop null values\n",
        "test_data = test_data.dropna() \n",
        "\n",
        "\n",
        "# Clean tweets\n",
        "test_data['Text'] = test_data['Text'].apply(clean_tweets)\n",
        "\n",
        "## Tokenize data\n",
        "test_data['tokenized'] = test_data['Text'].apply(tokenize)\n",
        "test_data['stremming'] = test_data['tokenized'].apply(stemming)"
      ],
      "execution_count": 46,
      "outputs": []
    },
    {
      "cell_type": "code",
      "metadata": {
        "colab": {
          "base_uri": "https://localhost:8080/"
        },
        "id": "NSpLGTNpghZD",
        "outputId": "60ebe833-9526-4f5f-c7e9-22bdd07eeb73"
      },
      "source": [
        "test_data.columns"
      ],
      "execution_count": 47,
      "outputs": [
        {
          "output_type": "execute_result",
          "data": {
            "text/plain": [
              "Index(['ID', 'Text', 'Sentiment', 'tokenized', 'stremming'], dtype='object')"
            ]
          },
          "metadata": {
            "tags": []
          },
          "execution_count": 47
        }
      ]
    },
    {
      "cell_type": "code",
      "metadata": {
        "id": "VHR9plGUfbDs"
      },
      "source": [
        "def word_listest(processed_data): # wORDLIST FUNCTION FOR ANALYZE MOST COMMON WORDS WITH PURPOSE TO IDENTIFY OUR APP THE REAL SENTIMENT\n",
        "    #print(processed_data)\n",
        "    min_occurrences=3 \n",
        "    max_occurences=500 \n",
        "    stopwords=nltk.corpus.stopwords.words(\"english\")\n",
        "    whitelist = [\"n't\",\"not\"]\n",
        "    wordlist = []\n",
        "    \n",
        "    whitelist = whitelist if whitelist is None else whitelist\n",
        "    \n",
        "    words = Counter()\n",
        "    for idx in processed_data.index:\n",
        "        words.update(processed_data.loc[idx, \"tokenized\"])\n",
        "\n",
        "    for idx, stop_word in enumerate(stopwords):\n",
        "        if stop_word not in whitelist:\n",
        "            del words[stop_word]\n",
        "    #print(words)\n",
        "\n",
        "    word_df = pd.DataFrame(data={\"word\": [k for k, v in words.most_common() if min_occurrences < v < max_occurences],\n",
        "                                 \"occurrences\": [v for k, v in words.most_common() if min_occurrences < v < max_occurences]},\n",
        "                           columns=[\"word\", \"occurrences\"])\n",
        "    #print(word_df)\n",
        "    word_df.to_csv(\"wordlistest.csv\", index_label=\"idx\")\n",
        "    wordlist = [k for k, v in words.most_common() if min_occurrences < v < max_occurences]\n",
        "    #print(wordlist)"
      ],
      "execution_count": 48,
      "outputs": []
    },
    {
      "cell_type": "code",
      "metadata": {
        "id": "Dqge9V9cIYzU"
      },
      "source": [
        "# wordlistest\n",
        "word_listest(test_data)"
      ],
      "execution_count": 50,
      "outputs": []
    },
    {
      "cell_type": "code",
      "metadata": {
        "id": "0cpCdM7BfEU1"
      },
      "source": [
        "words = pd.read_csv(\"wordlistest.csv\") #CREATE WORDLIST TEST CSV WITH THE MOST COMMON WORDS"
      ],
      "execution_count": 51,
      "outputs": []
    },
    {
      "cell_type": "code",
      "metadata": {
        "id": "GoHFAgk5IY2Q"
      },
      "source": [
        "\n",
        "## BAG OF WORDS\n",
        "wordlist= []\n",
        "if os.path.isfile(\"wordlistest.csv\"):\n",
        "    word_df = pd.read_csv(\"wordlistest.csv\")\n",
        "    word_df = word_df[word_df[\"occurrences\"] > 3]\n",
        "    wordlist = list(word_df.loc[:, \"word\"])\n",
        "\n",
        "label_column = [\"label\"]\n",
        "columns = label_column + list(map(lambda w: w + \"_bow\",wordlist))\n",
        "labels = []\n",
        "rows = []\n",
        "for idx in test_data.index:\n",
        "    current_row = []\n",
        "        # add label\n",
        "    current_label = test_data.loc[idx, \"Text\"]\n",
        "    labels.append(current_label)\n",
        "    current_row.append(current_label)\n",
        "\n",
        "    # add bag-of-words\n",
        "    tokens = set(test_data.loc[idx, \"tokenized\"])\n",
        "    for _, word in enumerate(wordlist):\n",
        "        current_row.append(1 if word in tokens else 0)\n",
        "\n",
        "    rows.append(current_row)\n",
        "\n",
        "data_model = pd.DataFrame(rows, columns=columns)\n",
        "data_labels = pd.Series(labels)"
      ],
      "execution_count": 52,
      "outputs": []
    },
    {
      "cell_type": "code",
      "metadata": {
        "id": "wN-YEPOPI14w"
      },
      "source": [
        "\n",
        "dat1 = test_data\n",
        "dat2 = data_model\n",
        "\n",
        "dat1 = dat1.reset_index(drop=True)\n",
        "dat2 = dat2.reset_index(drop=True)\n",
        "\n",
        "data_model = dat1.join(dat2)"
      ],
      "execution_count": null,
      "outputs": []
    },
    {
      "cell_type": "code",
      "metadata": {
        "id": "3LzpHUYdI18D"
      },
      "source": [
        "\n",
        "test_model = pd.DataFrame()\n"
      ],
      "execution_count": 55,
      "outputs": []
    },
    {
      "cell_type": "code",
      "metadata": {
        "id": "-auApA2fJCR8"
      },
      "source": [
        "data_model.columns\n",
        "test_model['original_id'] = data_model['ID']"
      ],
      "execution_count": 56,
      "outputs": []
    },
    {
      "cell_type": "code",
      "metadata": {
        "id": "SHqh0r9HJCUt"
      },
      "source": [
        "data_model = data_model.drop(columns=['ID', 'Text', 'Sentiment', 'tokenized', 'stremming'], axis=1)"
      ],
      "execution_count": 57,
      "outputs": []
    },
    {
      "cell_type": "code",
      "metadata": {
        "id": "laDixoX4JQte"
      },
      "source": [
        "from sklearn.ensemble import RandomForestClassifier"
      ],
      "execution_count": 58,
      "outputs": []
    },
    {
      "cell_type": "code",
      "metadata": {
        "id": "BFr8BbXTIFBB"
      },
      "source": [
        "RF = RandomForestClassifier(n_estimators=403,max_depth=10)"
      ],
      "execution_count": 59,
      "outputs": []
    },
    {
      "cell_type": "code",
      "metadata": {
        "colab": {
          "base_uri": "https://localhost:8080/"
        },
        "id": "TDBRURkzJpxO",
        "outputId": "21ad9100-ba86-4211-9858-a425539b283f"
      },
      "source": [
        "RF.fit(data_model.drop(columns='label',axis=1),data_model['label'])\n"
      ],
      "execution_count": 60,
      "outputs": [
        {
          "output_type": "execute_result",
          "data": {
            "text/plain": [
              "RandomForestClassifier(bootstrap=True, ccp_alpha=0.0, class_weight=None,\n",
              "                       criterion='gini', max_depth=10, max_features='auto',\n",
              "                       max_leaf_nodes=None, max_samples=None,\n",
              "                       min_impurity_decrease=0.0, min_impurity_split=None,\n",
              "                       min_samples_leaf=1, min_samples_split=2,\n",
              "                       min_weight_fraction_leaf=0.0, n_estimators=403,\n",
              "                       n_jobs=None, oob_score=False, random_state=None,\n",
              "                       verbose=0, warm_start=False)"
            ]
          },
          "metadata": {
            "tags": []
          },
          "execution_count": 60
        }
      ]
    },
    {
      "cell_type": "code",
      "metadata": {
        "id": "zqekt_RZIFHL"
      },
      "source": [
        "predictions = RF.predict(data_model.drop(columns='label',axis=1))"
      ],
      "execution_count": 61,
      "outputs": []
    },
    {
      "cell_type": "code",
      "metadata": {
        "id": "nYnRHIW1IFJz"
      },
      "source": [
        "results = pd.DataFrame([],columns=[\"ID\",\"Category\"])\n",
        "results[\"ID\"] = test_model[\"original_id\"]\n",
        "results[\"Category\"] = predictions\n",
        "results.to_csv(\"results_xgb.csv\",index=False)"
      ],
      "execution_count": 62,
      "outputs": []
    },
    {
      "cell_type": "markdown",
      "metadata": {
        "id": "D6Jzvo2SZFCP"
      },
      "source": [
        "# **Input Tweet & Analyzing Sentiment Polarity for understanding the Sentiment**"
      ]
    },
    {
      "cell_type": "code",
      "metadata": {
        "id": "KxSsoA8obUEs",
        "colab": {
          "base_uri": "https://localhost:8080/"
        },
        "outputId": "d35de2ec-db9a-4934-eb3d-78d0e966a02f"
      },
      "source": [
        "# Give text input for testing your post!\n",
        "# After clean tweet and print it!\n",
        "\n",
        "y= input(\"Type your post for analysis:\")\n",
        "x=clean_tweets(y)\n",
        "print(x)\n",
        "\n"
      ],
      "execution_count": 63,
      "outputs": [
        {
          "output_type": "stream",
          "text": [
            "Type your post for analysis:When you're sitting there waiting for the UPS truck for your new iphone :) :(\n",
            "When youre sitting there waiting for the UPS truck for your new iphone  \n"
          ],
          "name": "stdout"
        }
      ]
    },
    {
      "cell_type": "code",
      "metadata": {
        "colab": {
          "base_uri": "https://localhost:8080/"
        },
        "id": "R9sp8Owog5v8",
        "outputId": "907b6362-d7a5-49b7-a0e0-65b48f8e6e5a"
      },
      "source": [
        "# Using textblob library for data analysis \n",
        "# After sentiment and polarity for calculate the emotion of the post and print it for testing!\n",
        "text= TextBlob(y)\n",
        "\n",
        "\n",
        "z = text.sentiment.polarity\n",
        "\n",
        "print (z)\n",
        "\n",
        "\n",
        "\n"
      ],
      "execution_count": 64,
      "outputs": [
        {
          "output_type": "stream",
          "text": [
            "-0.03787878787878788\n"
          ],
          "name": "stdout"
        }
      ]
    },
    {
      "cell_type": "code",
      "metadata": {
        "colab": {
          "base_uri": "https://localhost:8080/"
        },
        "id": "koTCKEHUg5yj",
        "outputId": "d66075bc-08e1-4af9-c174-ca60ca9490a1"
      },
      "source": [
        "# Using if statement for printing if it is positive or negative!\n",
        "\n",
        "if z==0: \n",
        "    print(\"Neutral\")\n",
        "elif z<0:\n",
        "    print(\"Negative\")\n",
        "else:\n",
        "    print(\"Positive\")"
      ],
      "execution_count": 65,
      "outputs": [
        {
          "output_type": "stream",
          "text": [
            "Negative\n"
          ],
          "name": "stdout"
        }
      ]
    }
  ]
}